{
 "cells": [
  {
   "cell_type": "code",
   "execution_count": null,
   "metadata": {},
   "outputs": [
    {
     "name": "stdout",
     "output_type": "stream",
     "text": [
      "Quotes have been written to quotes.xlsx\n"
     ]
    }
   ],
   "source": [
    "import requests\n",
    "from bs4 import BeautifulSoup\n",
    "import pandas as pd\n",
    "\n",
    "def scrape_quotes(max_pages=10):  # max_pages parameter to limit the number of pages\n",
    "    # Base URL of the site to scrape\n",
    "    base_url = 'http://quotes.toscrape.com/page/'\n",
    "    \n",
    "    # Lists to hold quotes and authors\n",
    "    quotes_list = []\n",
    "    authors_list = []\n",
    "    \n",
    "    page = 1  # Start with the first page\n",
    "    while page <= max_pages:  # Limit the loop to max_pages\n",
    "        # Send a GET request to fetch the webpage content of the current page\n",
    "        url = f'{base_url}{page}/'\n",
    "        response = requests.get(url)\n",
    "\n",
    "        # Check if the request was successful\n",
    "        if response.status_code == 200:\n",
    "            # Parse the webpage content\n",
    "            soup = BeautifulSoup(response.text, 'html.parser')\n",
    "\n",
    "            # Find all quote elements on the current page\n",
    "            quotes = soup.find_all('div', class_='quote')\n",
    "\n",
    "            # If no quotes are found, break the loop (end of pages)\n",
    "            if not quotes:\n",
    "                break\n",
    "\n",
    "            # Loop through the quotes and store the text and author\n",
    "            for quote in quotes:\n",
    "                text = quote.find('span', class_='text').text\n",
    "                author = quote.find('small', class_='author').text\n",
    "                quotes_list.append(text)\n",
    "                authors_list.append(author)\n",
    "\n",
    "            # Move to the next page\n",
    "            page += 1\n",
    "        else:\n",
    "            print(f'Failed to retrieve webpage. Status code: {response.status_code}')\n",
    "            break\n",
    "\n",
    "    # Create a DataFrame\n",
    "    quotes_df = pd.DataFrame({\n",
    "        'Quote': quotes_list,\n",
    "        'Author': authors_list\n",
    "    })\n",
    "\n",
    "    # Write the DataFrame to an Excel file\n",
    "    quotes_df.to_excel('quotes.xlsx', index=False)\n",
    "    print(\"Quotes have been written to quotes.xlsx\")\n",
    "\n",
    "# Run the scraper with page limit\n",
    "scrape_quotes(max_pages=10)"
   ]
  }
 ],
 "metadata": {
  "kernelspec": {
   "display_name": "Python 3",
   "language": "python",
   "name": "python3"
  },
  "language_info": {
   "codemirror_mode": {
    "name": "ipython",
    "version": 3
   },
   "file_extension": ".py",
   "mimetype": "text/x-python",
   "name": "python",
   "nbconvert_exporter": "python",
   "pygments_lexer": "ipython3",
   "version": "3.8.10"
  }
 },
 "nbformat": 4,
 "nbformat_minor": 2
}
