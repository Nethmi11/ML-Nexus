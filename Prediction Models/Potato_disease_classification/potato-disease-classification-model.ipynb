{
 "cells": [
  {
   "cell_type": "markdown",
   "id": "09527d2c",
   "metadata": {
    "_cell_guid": "b1076dfc-b9ad-4769-8c92-a6c4dae69d19",
    "_uuid": "8f2839f25d086af736a60e9eeb907d3b93b6e0e5",
    "papermill": {
     "duration": 0.013811,
     "end_time": "2023-09-14T19:31:43.463721",
     "exception": false,
     "start_time": "2023-09-14T19:31:43.449910",
     "status": "completed"
    },
    "tags": []
   },
   "source": [
    "# Import all the Dependencies"
   ]
  },
  {
   "cell_type": "code",
   "execution_count": null,
   "id": "763450fd",
   "metadata": {
    "papermill": {
     "duration": 15.452498,
     "end_time": "2023-09-14T19:31:58.929205",
     "exception": false,
     "start_time": "2023-09-14T19:31:43.476707",
     "status": "completed"
    },
    "tags": []
   },
   "outputs": [],
   "source": [
    "import tensorflow as tf\n",
    "from tensorflow.keras import models , layers \n",
    "import matplotlib.pyplot as plt \n",
    "import numpy as np # linear algebra\n",
    "import pandas as pd # data processing, CSV file I/O (e.g. pd.read_csv)\n",
    "\n",
    "import os\n"
   ]
  },
  {
   "cell_type": "markdown",
   "id": "6ab0b9a0",
   "metadata": {
    "papermill": {
     "duration": 0.015318,
     "end_time": "2023-09-14T19:31:58.959983",
     "exception": false,
     "start_time": "2023-09-14T19:31:58.944665",
     "status": "completed"
    },
    "tags": []
   },
   "source": [
    "# Set all the Constents"
   ]
  },
  {
   "cell_type": "code",
   "execution_count": null,
   "id": "7f916f99",
   "metadata": {
    "papermill": {
     "duration": 0.022494,
     "end_time": "2023-09-14T19:31:58.996297",
     "exception": false,
     "start_time": "2023-09-14T19:31:58.973803",
     "status": "completed"
    },
    "tags": []
   },
   "outputs": [],
   "source": [
    "BATCH_SIZE = 32 \n",
    "IMAGE_SIZE = 256 \n",
    "CHANNELS = 3\n",
    "EPOCHS = 50 "
   ]
  },
  {
   "cell_type": "markdown",
   "id": "0c08c5c2",
   "metadata": {
    "papermill": {
     "duration": 0.013253,
     "end_time": "2023-09-14T19:31:59.023394",
     "exception": false,
     "start_time": "2023-09-14T19:31:59.010141",
     "status": "completed"
    },
    "tags": []
   },
   "source": [
    "# Import data into tensorflow dataset"
   ]
  },
  {
   "cell_type": "code",
   "execution_count": null,
   "id": "54ee6953",
   "metadata": {
    "papermill": {
     "duration": 7.572144,
     "end_time": "2023-09-14T19:32:06.609290",
     "exception": false,
     "start_time": "2023-09-14T19:31:59.037146",
     "status": "completed"
    },
    "tags": []
   },
   "outputs": [],
   "source": [
    "dataset = tf.keras.preprocessing.image_dataset_from_directory(\n",
    "  \"/kaggle/input/plantvillagepotato/PlantVillage\",\n",
    "   seed=123 ,\n",
    "    shuffle=True,\n",
    "   image_size = (IMAGE_SIZE , IMAGE_SIZE ),\n",
    "   batch_size = BATCH_SIZE \n",
    ")"
   ]
  },
  {
   "cell_type": "code",
   "execution_count": null,
   "id": "c913411f",
   "metadata": {
    "papermill": {
     "duration": 0.024528,
     "end_time": "2023-09-14T19:32:06.647587",
     "exception": false,
     "start_time": "2023-09-14T19:32:06.623059",
     "status": "completed"
    },
    "tags": []
   },
   "outputs": [],
   "source": [
    "class_names = dataset.class_names\n",
    "class_names"
   ]
  },
  {
   "cell_type": "code",
   "execution_count": null,
   "id": "cf516645",
   "metadata": {
    "papermill": {
     "duration": 1.223216,
     "end_time": "2023-09-14T19:32:07.884354",
     "exception": false,
     "start_time": "2023-09-14T19:32:06.661138",
     "status": "completed"
    },
    "tags": []
   },
   "outputs": [],
   "source": [
    "for image_batch , label_batch in dataset.take(1):\n",
    "    print(image_batch.shape)\n",
    "    print(label_batch.numpy())"
   ]
  },
  {
   "cell_type": "markdown",
   "id": "2eca90d3",
   "metadata": {
    "papermill": {
     "duration": 0.013357,
     "end_time": "2023-09-14T19:32:07.911183",
     "exception": false,
     "start_time": "2023-09-14T19:32:07.897826",
     "status": "completed"
    },
    "tags": []
   },
   "source": [
    "# Visualize some of the images for our datasets"
   ]
  },
  {
   "cell_type": "code",
   "execution_count": null,
   "id": "39817396",
   "metadata": {
    "papermill": {
     "duration": 1.877842,
     "end_time": "2023-09-14T19:32:09.802269",
     "exception": false,
     "start_time": "2023-09-14T19:32:07.924427",
     "status": "completed"
    },
    "tags": []
   },
   "outputs": [],
   "source": [
    "plt.figure(figsize=(10 ,10))\n",
    "for image_batch, label_batch in dataset.take(1):\n",
    "    for i in range(12):\n",
    "        ax = plt.subplot(3 ,4 , i + 1) \n",
    "        plt.imshow(image_batch[i].numpy().astype(\"uint8\"))\n",
    "        plt.axis(\"off\")\n",
    "        plt.title(class_names[label_batch[i]])\n",
    "      "
   ]
  },
  {
   "cell_type": "markdown",
   "id": "4cd1be13",
   "metadata": {
    "papermill": {
     "duration": 0.022939,
     "end_time": "2023-09-14T19:32:09.848663",
     "exception": false,
     "start_time": "2023-09-14T19:32:09.825724",
     "status": "completed"
    },
    "tags": []
   },
   "source": [
    "# Function to Split Dataset\n",
    "Dataset should be bifurcated into 3 subsets, namely:\n",
    "\n",
    "1. Training: Dataset to be used while training\n",
    "2. Validation: Dataset to be tested against while training\n",
    "3. Test: Dataset to be tested against after we trained a model"
   ]
  },
  {
   "cell_type": "code",
   "execution_count": null,
   "id": "9354c460",
   "metadata": {
    "papermill": {
     "duration": 0.079049,
     "end_time": "2023-09-14T19:32:09.950999",
     "exception": false,
     "start_time": "2023-09-14T19:32:09.871950",
     "status": "completed"
    },
    "tags": []
   },
   "outputs": [],
   "source": [
    "def get_dataset_partitions_tf(ds , train_split=0.8 , val_split=0.1 , test_split=0.1 , shuffle=True , shuffle_size=10000):\n",
    "    assert(train_split + val_split + test_split ) == 1\n",
    "    \n",
    "    ds_size = len(ds)\n",
    "    \n",
    "    if shuffle:\n",
    "        ds = ds.shuffle(shuffle_size , seed=123)\n",
    "    \n",
    "    train_size = int( train_split * ds_size)\n",
    "    val_size = int(val_split * ds_size)\n",
    "    \n",
    "    train_ds = ds.take(train_size)\n",
    "    val_ds = ds.skip(train_size).take(val_size)\n",
    "    test_ds = ds.skip(train_size).skip(val_size)\n",
    "    return train_ds , val_ds , test_ds "
   ]
  },
  {
   "cell_type": "code",
   "execution_count": null,
   "id": "e3f1fef7",
   "metadata": {
    "papermill": {
     "duration": 0.041392,
     "end_time": "2023-09-14T19:32:10.016666",
     "exception": false,
     "start_time": "2023-09-14T19:32:09.975274",
     "status": "completed"
    },
    "tags": []
   },
   "outputs": [],
   "source": [
    "train_ds, val_ds , test_ds = get_dataset_partitions_tf(dataset)"
   ]
  },
  {
   "cell_type": "code",
   "execution_count": null,
   "id": "df4baf0e",
   "metadata": {
    "papermill": {
     "duration": 0.0338,
     "end_time": "2023-09-14T19:32:10.074521",
     "exception": false,
     "start_time": "2023-09-14T19:32:10.040721",
     "status": "completed"
    },
    "tags": []
   },
   "outputs": [],
   "source": [
    "print(\"Len Train_ds: {} , Len Val_ds: {} , Len Test_ds: {}\".format(len(train_ds), len(val_ds), len(test_ds)))"
   ]
  },
  {
   "cell_type": "markdown",
   "id": "1e7cf96a",
   "metadata": {
    "papermill": {
     "duration": 0.023092,
     "end_time": "2023-09-14T19:32:10.120863",
     "exception": false,
     "start_time": "2023-09-14T19:32:10.097771",
     "status": "completed"
    },
    "tags": []
   },
   "source": [
    "# Cache,Shuffle and Prefetch the Dataset"
   ]
  },
  {
   "cell_type": "code",
   "execution_count": null,
   "id": "15bd3119",
   "metadata": {
    "papermill": {
     "duration": 0.043869,
     "end_time": "2023-09-14T19:32:10.187921",
     "exception": false,
     "start_time": "2023-09-14T19:32:10.144052",
     "status": "completed"
    },
    "tags": []
   },
   "outputs": [],
   "source": [
    "train_ds = train_ds.cache().shuffle(1000).prefetch(buffer_size = tf.data.AUTOTUNE)\n",
    "val_ds =  val_ds.cache().shuffle(1000).prefetch(buffer_size=tf.data.AUTOTUNE)\n",
    "test_ds = test_ds.cache().shuffle(1000).prefetch(buffer_size=tf.data.AUTOTUNE)"
   ]
  },
  {
   "cell_type": "markdown",
   "id": "988d60e7",
   "metadata": {
    "papermill": {
     "duration": 0.023155,
     "end_time": "2023-09-14T19:32:10.234611",
     "exception": false,
     "start_time": "2023-09-14T19:32:10.211456",
     "status": "completed"
    },
    "tags": []
   },
   "source": [
    "# Building the Model\n",
    "**Creating a Layer for Resizing and Normalization**\n",
    "\n",
    "Before we feed our images to network, we should be resizing it to the desired size. Moreover, to improve model performance, we should normalize the image pixel value (keeping them in range 0 and 1 by dividing by 256). This should happen while training as well as inference. Hence we can add that as a layer in our Sequential Model.\n",
    "\n",
    "You might be thinking why do we need to resize (256,256) image to again (256,256). You are right we don't need to but this will be useful when we are done with the training and start using the model for predictions. At that time somone can supply an image that is not (256,256) and this layer will resize it"
   ]
  },
  {
   "cell_type": "code",
   "execution_count": null,
   "id": "6c1bf1df",
   "metadata": {
    "papermill": {
     "duration": 0.048048,
     "end_time": "2023-09-14T19:32:10.306302",
     "exception": false,
     "start_time": "2023-09-14T19:32:10.258254",
     "status": "completed"
    },
    "tags": []
   },
   "outputs": [],
   "source": [
    "resizing_rescaling = tf.keras.Sequential([\n",
    "    layers.experimental.preprocessing.Resizing(IMAGE_SIZE , IMAGE_SIZE),\n",
    "    layers.experimental.preprocessing.Rescaling(1/255.)\n",
    "    ])"
   ]
  },
  {
   "cell_type": "markdown",
   "id": "f0296d66",
   "metadata": {
    "papermill": {
     "duration": 0.024093,
     "end_time": "2023-09-14T19:32:10.354100",
     "exception": false,
     "start_time": "2023-09-14T19:32:10.330007",
     "status": "completed"
    },
    "tags": []
   },
   "source": [
    "# Data Augmention\n",
    "\n",
    "Data Augmentation is needed when we have less data, this boosts the accuracy of our model by augmenting the data."
   ]
  },
  {
   "cell_type": "code",
   "execution_count": null,
   "id": "c3f70c12",
   "metadata": {
    "papermill": {
     "duration": 0.038013,
     "end_time": "2023-09-14T19:32:10.415471",
     "exception": false,
     "start_time": "2023-09-14T19:32:10.377458",
     "status": "completed"
    },
    "tags": []
   },
   "outputs": [],
   "source": [
    "data_augmention = tf.keras.Sequential([\n",
    "    layers.experimental.preprocessing.RandomFlip(\"horizontal_and_vertical\"),\n",
    "    layers.experimental.preprocessing.RandomRotation(0.2)\n",
    "])"
   ]
  },
  {
   "cell_type": "markdown",
   "id": "362d2409",
   "metadata": {
    "papermill": {
     "duration": 0.023157,
     "end_time": "2023-09-14T19:32:10.462234",
     "exception": false,
     "start_time": "2023-09-14T19:32:10.439077",
     "status": "completed"
    },
    "tags": []
   },
   "source": [
    "# Applying Data Augmentaion for training data"
   ]
  },
  {
   "cell_type": "code",
   "execution_count": null,
   "id": "7ec8119f",
   "metadata": {
    "papermill": {
     "duration": 0.341915,
     "end_time": "2023-09-14T19:32:10.827490",
     "exception": false,
     "start_time": "2023-09-14T19:32:10.485575",
     "status": "completed"
    },
    "tags": []
   },
   "outputs": [],
   "source": [
    "train_ds = train_ds.map(\n",
    "lambda x , y : (data_augmention( x , training=True ) , y)\n",
    ").prefetch(buffer_size=tf.data.AUTOTUNE)"
   ]
  },
  {
   "cell_type": "markdown",
   "id": "f27e7503",
   "metadata": {
    "papermill": {
     "duration": 0.023229,
     "end_time": "2023-09-14T19:32:10.874556",
     "exception": false,
     "start_time": "2023-09-14T19:32:10.851327",
     "status": "completed"
    },
    "tags": []
   },
   "source": [
    "# Model Architecture\n",
    "\n",
    "We use a CNN coupled with a Softmax activation in the output layer. We also add the initial layers for resizing, normalization and Data Augmentation.\n",
    "\n",
    "**We are going to use convolutional neural network (CNN) here. CNN is popular for image classification tasks. Watch below video to understand fundamentals of CNN**"
   ]
  },
  {
   "cell_type": "code",
   "execution_count": null,
   "id": "4e29c290",
   "metadata": {
    "papermill": {
     "duration": 0.195035,
     "end_time": "2023-09-14T19:32:11.092962",
     "exception": false,
     "start_time": "2023-09-14T19:32:10.897927",
     "status": "completed"
    },
    "tags": []
   },
   "outputs": [],
   "source": [
    "input_shape = (BATCH_SIZE , IMAGE_SIZE , IMAGE_SIZE , CHANNELS)\n",
    "n_classes = 3\n",
    "\n",
    "model = tf.keras.Sequential([\n",
    "    resizing_rescaling , \n",
    "    layers.Conv2D(32 , kernel_size=(3,3) , activation='relu' , input_shape=input_shape),\n",
    "    layers.MaxPooling2D((2,2)),\n",
    "    layers.Conv2D(64 , kernel_size=(3,3) , activation='relu' ),\n",
    "    layers.MaxPooling2D((2,2)) ,\n",
    "    layers.Conv2D(64 , kernel_size=(3,3) , activation='relu' ),\n",
    "    layers.MaxPooling2D((2,2)) ,\n",
    "    layers.Conv2D(64 , kernel_size=(3,3) , activation='relu' ),\n",
    "    layers.MaxPooling2D((2,2)) ,\n",
    "    layers.Conv2D(64 , kernel_size=(3,3) , activation='relu' ),\n",
    "    layers.MaxPooling2D((2,2)) ,\n",
    "    layers.Conv2D(64 , kernel_size=(3,3) , activation='relu' ),\n",
    "    layers.MaxPooling2D((2,2)) ,\n",
    "    layers.Flatten(),\n",
    "    layers.Dense(64 , activation='relu'),\n",
    "    layers.Dense(n_classes , activation='softmax'),\n",
    "])\n",
    "model.build(input_shape=input_shape)"
   ]
  },
  {
   "cell_type": "code",
   "execution_count": null,
   "id": "21c4dbf9",
   "metadata": {
    "papermill": {
     "duration": 0.095972,
     "end_time": "2023-09-14T19:32:11.212679",
     "exception": false,
     "start_time": "2023-09-14T19:32:11.116707",
     "status": "completed"
    },
    "tags": []
   },
   "outputs": [],
   "source": [
    "model.summary()"
   ]
  },
  {
   "cell_type": "markdown",
   "id": "631d4361",
   "metadata": {
    "papermill": {
     "duration": 0.026891,
     "end_time": "2023-09-14T19:32:11.266619",
     "exception": false,
     "start_time": "2023-09-14T19:32:11.239728",
     "status": "completed"
    },
    "tags": []
   },
   "source": [
    "# Compiling the Model\n",
    "\n",
    "We use adam Optimizer, SparseCategoricalCrossentropy for losses, accuracy as a metric"
   ]
  },
  {
   "cell_type": "code",
   "execution_count": null,
   "id": "2f0b23c9",
   "metadata": {
    "papermill": {
     "duration": 0.058377,
     "end_time": "2023-09-14T19:32:11.355881",
     "exception": false,
     "start_time": "2023-09-14T19:32:11.297504",
     "status": "completed"
    },
    "tags": []
   },
   "outputs": [],
   "source": [
    "model.compile(\n",
    "    optimizer=\"adam\" ,\n",
    "    loss= tf.keras.losses.SparseCategoricalCrossentropy(from_logits=False),\n",
    "    metrics=['accuracy']\n",
    "    )"
   ]
  },
  {
   "cell_type": "code",
   "execution_count": null,
   "id": "f6440675",
   "metadata": {
    "papermill": {
     "duration": 847.844628,
     "end_time": "2023-09-14T19:46:19.228189",
     "exception": false,
     "start_time": "2023-09-14T19:32:11.383561",
     "status": "completed"
    },
    "tags": []
   },
   "outputs": [],
   "source": [
    "history = model.fit(train_ds , batch_size = BATCH_SIZE , validation_data=val_ds , verbose=1 , epochs= EPOCHS)"
   ]
  },
  {
   "cell_type": "code",
   "execution_count": null,
   "id": "3ec99979",
   "metadata": {
    "papermill": {
     "duration": 5.362517,
     "end_time": "2023-09-14T19:46:24.837041",
     "exception": false,
     "start_time": "2023-09-14T19:46:19.474524",
     "status": "completed"
    },
    "tags": []
   },
   "outputs": [],
   "source": [
    "scores = model.evaluate(test_ds)"
   ]
  },
  {
   "cell_type": "markdown",
   "id": "9b845053",
   "metadata": {
    "papermill": {
     "duration": 0.238975,
     "end_time": "2023-09-14T19:46:25.316074",
     "exception": false,
     "start_time": "2023-09-14T19:46:25.077099",
     "status": "completed"
    },
    "tags": []
   },
   "source": [
    "**You can see above that we get 0.99% accuracy for our test dataset. This is considered to be a pretty good accuracy**"
   ]
  },
  {
   "cell_type": "code",
   "execution_count": null,
   "id": "87076178",
   "metadata": {
    "papermill": {
     "duration": 0.24743,
     "end_time": "2023-09-14T19:46:25.800487",
     "exception": false,
     "start_time": "2023-09-14T19:46:25.553057",
     "status": "completed"
    },
    "tags": []
   },
   "outputs": [],
   "source": [
    "scores"
   ]
  },
  {
   "cell_type": "markdown",
   "id": "d8cd1f6e",
   "metadata": {
    "papermill": {
     "duration": 0.235627,
     "end_time": "2023-09-14T19:46:26.272547",
     "exception": false,
     "start_time": "2023-09-14T19:46:26.036920",
     "status": "completed"
    },
    "tags": []
   },
   "source": [
    "Scores is just a list containing loss and accuracy value"
   ]
  },
  {
   "cell_type": "markdown",
   "id": "d081e18a",
   "metadata": {
    "papermill": {
     "duration": 0.238726,
     "end_time": "2023-09-14T19:46:26.750084",
     "exception": false,
     "start_time": "2023-09-14T19:46:26.511358",
     "status": "completed"
    },
    "tags": []
   },
   "source": [
    "# Plotting the Accuracy and Loss Curves"
   ]
  },
  {
   "cell_type": "code",
   "execution_count": null,
   "id": "1fccd3f3",
   "metadata": {
    "papermill": {
     "duration": 0.298045,
     "end_time": "2023-09-14T19:46:27.285927",
     "exception": false,
     "start_time": "2023-09-14T19:46:26.987882",
     "status": "completed"
    },
    "tags": []
   },
   "outputs": [],
   "source": [
    "history"
   ]
  },
  {
   "cell_type": "code",
   "execution_count": null,
   "id": "8bb02865",
   "metadata": {
    "papermill": {
     "duration": 0.247928,
     "end_time": "2023-09-14T19:46:27.772514",
     "exception": false,
     "start_time": "2023-09-14T19:46:27.524586",
     "status": "completed"
    },
    "tags": []
   },
   "outputs": [],
   "source": [
    "history.params"
   ]
  },
  {
   "cell_type": "markdown",
   "id": "189bc53b",
   "metadata": {
    "papermill": {
     "duration": 0.235291,
     "end_time": "2023-09-14T19:46:28.245277",
     "exception": false,
     "start_time": "2023-09-14T19:46:28.009986",
     "status": "completed"
    },
    "tags": []
   },
   "source": [
    "loss, accuracy, val loss etc are a python list containing values of loss, accuracy etc at the end of each epoch"
   ]
  },
  {
   "cell_type": "code",
   "execution_count": null,
   "id": "a6c19e51",
   "metadata": {
    "papermill": {
     "duration": 0.249964,
     "end_time": "2023-09-14T19:46:28.734652",
     "exception": false,
     "start_time": "2023-09-14T19:46:28.484688",
     "status": "completed"
    },
    "tags": []
   },
   "outputs": [],
   "source": [
    "history.history.keys()"
   ]
  },
  {
   "cell_type": "code",
   "execution_count": null,
   "id": "13c31373",
   "metadata": {
    "papermill": {
     "duration": 0.250986,
     "end_time": "2023-09-14T19:46:29.224136",
     "exception": false,
     "start_time": "2023-09-14T19:46:28.973150",
     "status": "completed"
    },
    "tags": []
   },
   "outputs": [],
   "source": [
    "type(history.history['loss'])"
   ]
  },
  {
   "cell_type": "code",
   "execution_count": null,
   "id": "18cd7ffd",
   "metadata": {
    "papermill": {
     "duration": 0.246744,
     "end_time": "2023-09-14T19:46:29.708202",
     "exception": false,
     "start_time": "2023-09-14T19:46:29.461458",
     "status": "completed"
    },
    "tags": []
   },
   "outputs": [],
   "source": [
    "len(history.history['loss'])"
   ]
  },
  {
   "cell_type": "code",
   "execution_count": null,
   "id": "5644f446",
   "metadata": {
    "papermill": {
     "duration": 0.299734,
     "end_time": "2023-09-14T19:46:30.246739",
     "exception": false,
     "start_time": "2023-09-14T19:46:29.947005",
     "status": "completed"
    },
    "tags": []
   },
   "outputs": [],
   "source": [
    "history.history['loss'][:5] # # show loss for first 5 epochs"
   ]
  },
  {
   "cell_type": "code",
   "execution_count": null,
   "id": "fd53014f",
   "metadata": {
    "papermill": {
     "duration": 0.246732,
     "end_time": "2023-09-14T19:46:30.739627",
     "exception": false,
     "start_time": "2023-09-14T19:46:30.492895",
     "status": "completed"
    },
    "tags": []
   },
   "outputs": [],
   "source": [
    "acc = history.history['accuracy']\n",
    "val_acc = history.history['val_accuracy']\n",
    "\n",
    "loss = history.history['loss']\n",
    "val_loss = history.history['val_loss']"
   ]
  },
  {
   "cell_type": "code",
   "execution_count": null,
   "id": "2236d9c4",
   "metadata": {
    "papermill": {
     "duration": 0.730303,
     "end_time": "2023-09-14T19:46:31.708814",
     "exception": false,
     "start_time": "2023-09-14T19:46:30.978511",
     "status": "completed"
    },
    "tags": []
   },
   "outputs": [],
   "source": [
    "plt.figure(figsize=(8,4))\n",
    "plt.subplot(1 , 2 , 1 )\n",
    "plt.plot(range(EPOCHS) , acc , label=\"Training Accuracy\")\n",
    "plt.plot(range(EPOCHS) , val_acc , label=\"Val accuracy\")\n",
    "plt.title(\"Training vs Validation Accuracy\")\n",
    "plt.legend(loc=\"lower right\")\n",
    "\n",
    "\n",
    "plt.subplot(1 , 2 , 2 )\n",
    "plt.plot(range(EPOCHS) , loss  , label=\"Training Loss\")\n",
    "plt.plot(range(EPOCHS) , val_loss , label=\"Val loss\")\n",
    "plt.title(\"Training vs Validation Loss\")\n",
    "plt.legend(loc=\"upper right\")\n",
    "plt.show()"
   ]
  },
  {
   "cell_type": "markdown",
   "id": "31d0a9d0",
   "metadata": {
    "papermill": {
     "duration": 0.274442,
     "end_time": "2023-09-14T19:46:32.225065",
     "exception": false,
     "start_time": "2023-09-14T19:46:31.950623",
     "status": "completed"
    },
    "tags": []
   },
   "source": [
    "# Run Prediction on sample image"
   ]
  },
  {
   "cell_type": "code",
   "execution_count": null,
   "id": "687e22a5",
   "metadata": {
    "papermill": {
     "duration": 0.878134,
     "end_time": "2023-09-14T19:46:33.389659",
     "exception": false,
     "start_time": "2023-09-14T19:46:32.511525",
     "status": "completed"
    },
    "tags": []
   },
   "outputs": [],
   "source": [
    "for image_batch , label_batch in test_ds.take(1):\n",
    "    first_image= image_batch[0].numpy().astype(\"uint8\")\n",
    "    label_image = label_batch[0].numpy()\n",
    "    print(\"first image to predict\")\n",
    "    plt.imshow(first_image)\n",
    "    print(\"Actul label image \" , class_names[label_image] )\n",
    "    batch_predictation = model.predict(image_batch)\n",
    "    print(\"prediction model \" , class_names[np.argmax(batch_predictation[0])])"
   ]
  },
  {
   "cell_type": "code",
   "execution_count": null,
   "id": "6e31cfbf",
   "metadata": {
    "papermill": {
     "duration": 0.251288,
     "end_time": "2023-09-14T19:46:34.427786",
     "exception": false,
     "start_time": "2023-09-14T19:46:34.176498",
     "status": "completed"
    },
    "tags": []
   },
   "outputs": [],
   "source": [
    "def predict(model , img ):\n",
    "    img_array = tf.keras.preprocessing.image.img_to_array(images[i].numpy())\n",
    "    img_array = tf.expand_dims(img_array , 0 )\n",
    "    \n",
    "    predictions  = model.predict(img_array)\n",
    "    predict_class =  class_names[np.argmax(predictions[0])]\n",
    "    confidnce = round( 100 * np.max(predictions[0]) , 2 )\n",
    "    return predict_class , confidnce\n",
    "    "
   ]
  },
  {
   "cell_type": "code",
   "execution_count": null,
   "id": "19f257e1",
   "metadata": {
    "papermill": {
     "duration": 3.337859,
     "end_time": "2023-09-14T19:46:38.007101",
     "exception": false,
     "start_time": "2023-09-14T19:46:34.669242",
     "status": "completed"
    },
    "tags": []
   },
   "outputs": [],
   "source": [
    "plt.figure(figsize=(15 ,15 ))\n",
    "for images , labels in test_ds.take(1):\n",
    "    for i in range(9):\n",
    "        ax = plt.subplot(3 , 3 , i+1 )\n",
    "        plt.imshow(images[i].numpy().astype(\"uint8\"))\n",
    "        \n",
    "        predicted_class , confidence = predict(model , images[i].numpy())\n",
    "        actual_class = class_names[labels[i]]\n",
    "        plt.title(f\"Actual: {actual_class},\\n Predicted: {predicted_class}.\\n Confidence: {confidence}%\")\n",
    "        \n",
    "        plt.axis(\"off\")"
   ]
  },
  {
   "cell_type": "code",
   "execution_count": null,
   "id": "0851849e",
   "metadata": {
    "papermill": {
     "duration": 0.275615,
     "end_time": "2023-09-14T19:46:42.652936",
     "exception": false,
     "start_time": "2023-09-14T19:46:42.377321",
     "status": "completed"
    },
    "tags": []
   },
   "outputs": [],
   "source": []
  }
 ],
 "metadata": {
  "kernelspec": {
   "display_name": "Python 3 (ipykernel)",
   "language": "python",
   "name": "python3"
  },
  "language_info": {
   "codemirror_mode": {
    "name": "ipython",
    "version": 3
   },
   "file_extension": ".py",
   "mimetype": "text/x-python",
   "name": "python",
   "nbconvert_exporter": "python",
   "pygments_lexer": "ipython3",
   "version": "3.11.7"
  },
  "papermill": {
   "default_parameters": {},
   "duration": 908.032567,
   "end_time": "2023-09-14T19:46:46.867278",
   "environment_variables": {},
   "exception": null,
   "input_path": "__notebook__.ipynb",
   "output_path": "__notebook__.ipynb",
   "parameters": {},
   "start_time": "2023-09-14T19:31:38.834711",
   "version": "2.4.0"
  }
 },
 "nbformat": 4,
 "nbformat_minor": 5
}
