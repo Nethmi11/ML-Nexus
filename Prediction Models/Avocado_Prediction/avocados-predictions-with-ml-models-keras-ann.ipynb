{
 "cells": [
  {
   "cell_type": "markdown",
   "metadata": {
    "_uuid": "efe0b12370ca94ef019529d8ac33245eb4e33268"
   },
   "source": [
    "# Avocados - ML models, keras ANN, seaborn plots\n",
    "\n",
    "## Import libraries and data"
   ]
  },
  {
   "cell_type": "code",
   "execution_count": null,
   "metadata": {
    "_uuid": "568dd5809e3ad6f9016c29990cee58e4746a9e9f"
   },
   "outputs": [],
   "source": [
    "import pandas as pd\n",
    "import numpy as np\n",
    "import matplotlib.pyplot as plt\n",
    "import seaborn as sns\n",
    "%matplotlib inline"
   ]
  },
  {
   "cell_type": "code",
   "execution_count": null,
   "metadata": {
    "_uuid": "a19da1288c986c271f070a71cab4ac649ff0635e"
   },
   "outputs": [],
   "source": [
    "df = pd.read_csv('../input/avocado.csv')"
   ]
  },
  {
   "cell_type": "code",
   "execution_count": null,
   "metadata": {
    "_uuid": "d1398fd0c6d135c7232d09da854764155dd99ac5"
   },
   "outputs": [],
   "source": [
    "df.head(10)"
   ]
  },
  {
   "cell_type": "code",
   "execution_count": null,
   "metadata": {
    "_uuid": "c886975f466e57e7cc75dd1e9bcf676344377ebc"
   },
   "outputs": [],
   "source": [
    "df.describe()"
   ]
  },
  {
   "cell_type": "code",
   "execution_count": null,
   "metadata": {
    "_uuid": "3c62e2b6af1952e7eeaf03ad840cb9dfca4c2f24"
   },
   "outputs": [],
   "source": [
    "df = df.drop(['Unnamed: 0', 'Date'], axis = 1)\n",
    "df.info()"
   ]
  },
  {
   "cell_type": "markdown",
   "metadata": {
    "_uuid": "33ea431e40204db7571425bdd40f355953af3fb0"
   },
   "source": [
    "## Visualizations\n",
    "Total volume is higly correlated with small bags and total bags which are correleted to each other too."
   ]
  },
  {
   "cell_type": "code",
   "execution_count": null,
   "metadata": {
    "_uuid": "a9d37f1b12393784273c51c507163775c6493347"
   },
   "outputs": [],
   "source": [
    "f, ax = plt.subplots(1, 1, figsize=(10,8))\n",
    "corr = df.corr()\n",
    "sns.heatmap(corr, cmap='coolwarm_r', annot_kws={'size':20}, ax=ax)\n",
    "ax.set_title(\"Correlation Matrix\", fontsize=14)\n",
    "plt.show()"
   ]
  },
  {
   "cell_type": "markdown",
   "metadata": {
    "_uuid": "72e1e62e9af190d2adcfbfaed58577b98949b3ee"
   },
   "source": [
    "Indeed, the smaller bags, the higher number of them  are taken"
   ]
  },
  {
   "cell_type": "code",
   "execution_count": null,
   "metadata": {
    "_uuid": "71e896657f3caf4fe140b171303792530711c83e"
   },
   "outputs": [],
   "source": [
    "sns.jointplot(x='Small Bags',y='Total Bags',data=df, color='red')"
   ]
  },
  {
   "cell_type": "markdown",
   "metadata": {
    "_uuid": "e74fedebb3093aefeb6dfe2cdc7d88f24382c955"
   },
   "source": [
    "Surprisingly or not, price doesn't change among the years'"
   ]
  },
  {
   "cell_type": "code",
   "execution_count": null,
   "metadata": {
    "_uuid": "e55bd84df90a730f2cf1ee1441fdab2b22cc3fab"
   },
   "outputs": [],
   "source": [
    "fig, ax = plt.subplots(1, 1, figsize=(10,6))\n",
    "sns.boxplot(x='year',y='AveragePrice',data=df,color='red')"
   ]
  },
  {
   "cell_type": "markdown",
   "metadata": {
    "_uuid": "b17189bf293a8315fd14166455b07a63ad6ad0ab"
   },
   "source": [
    "Average Price distribution shows that for most cases price of avocado is between 1.1, 1.4."
   ]
  },
  {
   "cell_type": "code",
   "execution_count": null,
   "metadata": {
    "_uuid": "1631adc3d84d3ccc1ce190385b6d5626e56d10b8"
   },
   "outputs": [],
   "source": [
    "fig, ax = plt.subplots(1, 1, figsize=(10,6))\n",
    "price_val = df['AveragePrice'].values\n",
    "sns.distplot(price_val, color='r')\n",
    "ax.set_title('Distribution of Average Price', fontsize=14)\n",
    "ax.set_xlim([min(price_val), max(price_val)])"
   ]
  },
  {
   "cell_type": "markdown",
   "metadata": {
    "_uuid": "2f836a9b620a4311d15b95d742dc8621ada405bd"
   },
   "source": [
    "##  Implementing machine learning models\n",
    "### Data prepearing and encoding categorical variables\n"
   ]
  },
  {
   "cell_type": "code",
   "execution_count": null,
   "metadata": {
    "_uuid": "7aedabb02b7bcc24625eec8a2ab4a6a3748cd065"
   },
   "outputs": [],
   "source": [
    "X = df.drop(['AveragePrice'], axis = 1).values\n",
    "y = df['AveragePrice'].values\n",
    "\n",
    "# Encoding categorical data\n",
    "from sklearn.preprocessing import LabelEncoder, OneHotEncoder\n",
    "labelencoder_X_1 = LabelEncoder()\n",
    "X[:, 8] = labelencoder_X_1.fit_transform(X[:, 9])\n",
    "labelencoder_X_2 = LabelEncoder()\n",
    "X[:, 9] = labelencoder_X_2.fit_transform(X[:, 10])\n",
    "labelencoder_X_3 = LabelEncoder()\n",
    "X[:, 10] = labelencoder_X_3.fit_transform(X[:, 10])"
   ]
  },
  {
   "cell_type": "markdown",
   "metadata": {
    "_uuid": "4b6e6afee016d6a02970288ed7d341118eb734a1"
   },
   "source": [
    "### Standardize the variables"
   ]
  },
  {
   "cell_type": "code",
   "execution_count": null,
   "metadata": {
    "_uuid": "21a4c48ebaa1bcf235cefceb60b54db81a4d8c3b"
   },
   "outputs": [],
   "source": [
    "from sklearn.preprocessing import StandardScaler\n",
    "scaler = StandardScaler()\n",
    "scaler.fit(df.drop(['AveragePrice', 'type', 'year', 'region'],axis=1))\n",
    "scaled_features = scaler.transform(df.drop(['AveragePrice', 'type', 'year', 'region'],axis=1))\n",
    "df_feat = pd.DataFrame(scaled_features,columns=df.columns[1:9])\n",
    "df_feat.head()"
   ]
  },
  {
   "cell_type": "markdown",
   "metadata": {
    "_uuid": "3f248c5c96b04d122fa5020a6286edc312f2c6c0"
   },
   "source": [
    "### Train test split, label encoding"
   ]
  },
  {
   "cell_type": "code",
   "execution_count": null,
   "metadata": {
    "_uuid": "515ae3eda5487ef217fcec0871a897e13d2439e6"
   },
   "outputs": [],
   "source": [
    "# Splitting the dataset into the Training set and Test set\n",
    "from sklearn.model_selection import train_test_split\n",
    "X_train, X_test, y_train, y_test = train_test_split(X, y, test_size = 0.2, random_state = 0)"
   ]
  },
  {
   "cell_type": "code",
   "execution_count": null,
   "metadata": {
    "_uuid": "1caf750ca19d0bc7f727783bce9cb36c64413bb2"
   },
   "outputs": [],
   "source": [
    "from sklearn.preprocessing import StandardScaler\n",
    "sc = StandardScaler()\n",
    "X_train = sc.fit_transform(X_train)\n",
    "X_test = sc.transform(X_test)\n",
    "\n",
    "from sklearn import preprocessing\n",
    "from sklearn import utils\n",
    "lab_enc = preprocessing.LabelEncoder()\n",
    "y_train = lab_enc.fit_transform(y_train)\n",
    "y_test = lab_enc.fit_transform(y_test)"
   ]
  },
  {
   "cell_type": "markdown",
   "metadata": {
    "_uuid": "42f14fbac5a61dde12fba5a00692656254e91edf"
   },
   "source": [
    "### ML models implementation"
   ]
  },
  {
   "cell_type": "code",
   "execution_count": null,
   "metadata": {
    "_uuid": "b3cca51198ad9fcf84c44df0393680d82c8a8b0b"
   },
   "outputs": [],
   "source": [
    "from sklearn.multiclass import OneVsRestClassifier\n",
    "\n",
    "from sklearn.linear_model import LogisticRegression\n",
    "logreg = LogisticRegression()\n",
    "logreg = OneVsRestClassifier(logreg, n_jobs=1)\n",
    "logreg.fit(X_train, y_train)\n",
    "pred_logreg = logreg.predict(X_test)\n",
    "\n",
    "from sklearn.neighbors import KNeighborsClassifier\n",
    "knn = KNeighborsClassifier(n_neighbors=1)\n",
    "knn = OneVsRestClassifier(knn, n_jobs=1)\n",
    "knn.fit(X_train,y_train)\n",
    "pred_knn = knn.predict(X_test)\n",
    "\n",
    "from sklearn.svm import SVC\n",
    "svc = SVC()\n",
    "svc = OneVsRestClassifier(svc, n_jobs=1)\n",
    "svc.fit(X_train, y_train)\n",
    "pred_svc = svc.predict(X_test)\n",
    "\n",
    "from sklearn.tree import DecisionTreeClassifier\n",
    "decision_tree = DecisionTreeClassifier()\n",
    "decision_tree = OneVsRestClassifier(decision_tree, n_jobs=1)\n",
    "decision_tree.fit(X_train, y_train)\n",
    "pred_tree = decision_tree.predict(X_test)"
   ]
  },
  {
   "cell_type": "markdown",
   "metadata": {
    "_uuid": "d2ba3b59d26f1808ede9ff071ec653ce42a788da"
   },
   "source": [
    "### Confusion matrixes"
   ]
  },
  {
   "cell_type": "code",
   "execution_count": null,
   "metadata": {
    "_uuid": "7e98eb63eb0a9f3ae8113fbf78f78569b19d5f13"
   },
   "outputs": [],
   "source": [
    "sns.jointplot(x=y_test, y=pred_logreg, color= 'g')\n",
    "sns.jointplot(x=y_test, y=pred_knn, color= 'g')\n",
    "sns.jointplot(x=y_test, y=pred_svc, color= 'g')\n",
    "sns.jointplot(x=y_test, y=pred_tree, color= 'g')\n",
    "\n",
    "plt.show()"
   ]
  },
  {
   "cell_type": "markdown",
   "metadata": {
    "_uuid": "da4eb664607366628af18c5aa8a322e14ebdeb80"
   },
   "source": [
    "As we see, KNN method works the best here, logistic regression and decision tree completely do not work. We could tune k value.\n"
   ]
  },
  {
   "cell_type": "code",
   "execution_count": null,
   "metadata": {
    "_uuid": "fff2594547dcda7865bcb21b7d1bee36991e42c7"
   },
   "outputs": [],
   "source": [
    "error_rate = []\n",
    "for i in range(1,40):\n",
    "    knn = KNeighborsClassifier(n_neighbors=i)\n",
    "    knn.fit(X_train,y_train)\n",
    "    pred_i = knn.predict(X_test)\n",
    "    error_rate.append(np.mean(pred_i != y_test))\n",
    "    \n",
    "plt.figure(figsize=(10,6))\n",
    "plt.plot(range(1,40),error_rate,color='blue', linestyle='dashed', marker='o',\n",
    "         markerfacecolor='red', markersize=10)\n",
    "plt.title('Error Rate vs. K Value')\n",
    "plt.xlabel('K')\n",
    "plt.ylabel('Error Rate')"
   ]
  },
  {
   "cell_type": "markdown",
   "metadata": {
    "_uuid": "51ea648c62e91cbf0006be2a69b8a217c322a7fb"
   },
   "source": [
    "We choose k = 3."
   ]
  },
  {
   "cell_type": "code",
   "execution_count": null,
   "metadata": {
    "_uuid": "d195b65479b3a7214233a237cc12e301b27a2750"
   },
   "outputs": [],
   "source": [
    "from sklearn.neighbors import KNeighborsClassifier\n",
    "knn = KNeighborsClassifier(n_neighbors=3)\n",
    "knn = OneVsRestClassifier(knn, n_jobs=1)\n",
    "knn.fit(X_train,y_train)\n",
    "pred_knn = knn.predict(X_test)\n",
    "sns.jointplot(x=y_test, y=pred_knn, color= 'g')\n",
    "plt.plot()"
   ]
  },
  {
   "cell_type": "markdown",
   "metadata": {
    "_uuid": "337160d7370a00f83781c612c0be110d68fc3225"
   },
   "source": [
    "## Keras neural network will appear soon. Stay tuned :)\n",
    "And it is. Here i present the best model for that moment. If you have any advices, please let me know :). For now it is not working the best, as SVC model. I tried a model with a few number of units, various batch size, drop out or without and chose the best one. Maybe different number of hidden layers would help."
   ]
  },
  {
   "cell_type": "code",
   "execution_count": null,
   "metadata": {
    "_uuid": "0ac541abe93be66c41de6173196b9a7e3fe2cc20"
   },
   "outputs": [],
   "source": [
    "print(X_train.shape[1])\n",
    "print(X_train.shape[0])\n",
    "print(len(np.unique(y_train)))\n",
    "print((len(np.unique(y_train)) + X_train.shape[0]) /2)"
   ]
  },
  {
   "cell_type": "code",
   "execution_count": null,
   "metadata": {
    "_uuid": "6a9cdb6b568993bf73f7ccf15a286ca5e77e6a83"
   },
   "outputs": [],
   "source": [
    "from keras.models import Sequential\n",
    "from keras.layers import Dense, Dropout, Activation\n",
    "from keras.callbacks import EarlyStopping, ModelCheckpoint\n",
    "from keras.utils import np_utils\n",
    "from numpy import argmax\n",
    "\n",
    "BATCH_SIZE = 1000\n",
    "EPOCHS = 30\n",
    "VALIDATION_SPLIT = 0.1\n",
    "file_path=\"weights_base3.best.hdf5\"\n",
    "checkpoint = ModelCheckpoint(file_path, monitor='val_loss', save_best_only=True, mode='min')\n",
    "early = EarlyStopping(monitor=\"val_acc\", mode=\"max\", patience=5)\n",
    "callbacks_list = [checkpoint, early]\n",
    "\n",
    "def get_model():\n",
    "    model = Sequential()\n",
    "    model.add(Dense(7428, input_dim=X_train.shape[1]))\n",
    "    model.add(Activation('relu'))\n",
    "    model.add(Dropout(0.2))\n",
    "    model.add(Dense(7428))\n",
    "    model.add(Activation('relu'))\n",
    "    model.add(Dropout(0.2))\n",
    "    model.add(Dense(256, activation='softmax'))\n",
    "    model.compile(loss='categorical_crossentropy', \n",
    "                  optimizer='adam', \n",
    "                  metrics=['accuracy']\n",
    "                 )\n",
    "    model.summary()\n",
    "    return model\n",
    "model_nn = get_model()\n",
    "model_nn.fit(X_train, np_utils.to_categorical(y_train),\n",
    "                  batch_size=BATCH_SIZE, \n",
    "                  epochs=EPOCHS,\n",
    "                  callbacks=callbacks_list,\n",
    "                  validation_split=VALIDATION_SPLIT\n",
    "             )\n",
    "model_nn.load_weights(file_path)\n",
    "pred_ann = argmax(model_nn.predict(X_test), axis = 1)"
   ]
  },
  {
   "cell_type": "code",
   "execution_count": null,
   "metadata": {
    "_uuid": "625baae85721a26529eded0c15b8ee63ac66c0e9"
   },
   "outputs": [],
   "source": [
    "sns.jointplot(x=y_test, y=pred_ann, color= 'g')\n",
    "plt.plot()"
   ]
  }
 ],
 "metadata": {
  "kernelspec": {
   "display_name": "Python 3 (ipykernel)",
   "language": "python",
   "name": "python3"
  },
  "language_info": {
   "codemirror_mode": {
    "name": "ipython",
    "version": 3
   },
   "file_extension": ".py",
   "mimetype": "text/x-python",
   "name": "python",
   "nbconvert_exporter": "python",
   "pygments_lexer": "ipython3",
   "version": "3.11.7"
  }
 },
 "nbformat": 4,
 "nbformat_minor": 4
}
